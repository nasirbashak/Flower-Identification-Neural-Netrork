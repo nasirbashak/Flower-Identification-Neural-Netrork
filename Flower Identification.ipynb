{
 "cells": [
  {
   "cell_type": "code",
   "execution_count": 1,
   "metadata": {},
   "outputs": [],
   "source": [
    "from matplotlib import pyplot as plt"
   ]
  },
  {
   "cell_type": "code",
   "execution_count": 2,
   "metadata": {},
   "outputs": [],
   "source": [
    "import numpy as np"
   ]
  },
  {
   "cell_type": "code",
   "execution_count": 3,
   "metadata": {},
   "outputs": [],
   "source": [
    "# flower dimentions length , width , type (0,1)\n",
    "\n",
    "data = [[3,    1.5, 1],\n",
    "        [2,    1,   0],\n",
    "        [4,    1.5, 1],\n",
    "        [3,    1,   0],\n",
    "        [3.5, .5,   1],\n",
    "        [2,   .5,   0],\n",
    "        [5.5,  1,   1],\n",
    "        [1,    1,   0]]\n",
    "unknownFlower = [4.5, 1]"
   ]
  },
  {
   "cell_type": "code",
   "execution_count": 4,
   "metadata": {},
   "outputs": [
    {
     "data": {
      "image/png": "[encoded data removed]",
      "text/plain": [
       "<Figure size 432x288 with 1 Axes>"
      ]
     },
     "metadata": {
      "needs_background": "light"
     },
     "output_type": "display_data"
    }
   ],
   "source": [
    "# plotting the flowers using scatter plotting\n",
    "def vis_data():\n",
    "    \n",
    "    plt.grid()\n",
    "    \n",
    "    for i in range(len(data)):\n",
    "        c = 'r'\n",
    "        if data[i][2] == 0:\n",
    "            c = 'b'\n",
    "        plt.scatter(data[i][0],data[i][1],c=c)\n",
    "    plt.scatter(unknownFlower[0],unknownFlower[1],c ='0')\n",
    "vis_data()"
   ]
  },
  {
   "cell_type": "code",
   "execution_count": 5,
   "metadata": {},
   "outputs": [],
   "source": [
    "# activation function \n",
    "def sigmoid(x):\n",
    "    return (1/(1+np.exp(-x)))\n",
    "\n",
    "def sigmoid_dash(x):\n",
    "    return sigmoid(x)*(1 - sigmoid(x))\n",
    "\n",
    "def tanH(x):\n",
    "    return np.tanh(x)\n",
    "\n",
    "def tanH_dash(x):\n",
    "    #np.square(np.sech(x))\n",
    "    return 1-np.square(np.tanh(x))"
   ]
  },
  {
   "cell_type": "code",
   "execution_count": 6,
   "metadata": {},
   "outputs": [
    {
     "name": "stdout",
     "output_type": "stream",
     "text": [
      "0 -->0.5\n",
      "1 -->0.7310585786300049\n",
      "2 -->0.8807970779778823\n",
      "3 -->0.9525741268224334\n",
      "4 -->0.9820137900379085\n",
      "5 -->0.9933071490757153\n",
      "6 -->0.9975273768433653\n",
      "7 -->0.9990889488055994\n",
      "8 -->0.9996646498695336\n",
      "9 -->0.9998766054240137\n"
     ]
    }
   ],
   "source": [
    "for i in range(10):\n",
    "    print(\"{} -->{}\".format(i,sigmoid(i)))"
   ]
  },
  {
   "cell_type": "code",
   "execution_count": 7,
   "metadata": {},
   "outputs": [
    {
     "data": {
      "text/plain": [
       "[<matplotlib.lines.Line2D at 0x7f01a5aa6630>]"
      ]
     },
     "execution_count": 7,
     "metadata": {},
     "output_type": "execute_result"
    },
    {
     "data": {
      "image/png": "[encoded data removed]",
      "text/plain": [
       "<Figure size 432x288 with 1 Axes>"
      ]
     },
     "metadata": {
      "needs_background": "light"
     },
     "output_type": "display_data"
    }
   ],
   "source": [
    "X = np.linspace(-10,10,100)\n",
    "X2 = [0,0,0,0,0,0,0,0,0]\n",
    "Y = [-1, -.75, -.5, -.25, 0, .25, .5, .75, 1]\n",
    "#plt.plot(X,sigmoid(X),c = 'b')\n",
    "#plt.plot(X,sigmoid_dash(X),c = 'r')\n",
    "plt.plot(X,tanH(X),c = 'g')\n",
    "plt.plot(X,tanH_dash(X),c = '0')\n",
    "#plt.Line2D([X2],[Y],c='y')"
   ]
  },
  {
   "cell_type": "code",
   "execution_count": 8,
   "metadata": {},
   "outputs": [],
   "source": [
    "#training dataset to nn\n",
    "def train_data():\n",
    "    #random weight in the begining and bringing them to get minimum cost\n",
    "    w1 = np.random.randn()\n",
    "    w2 = np.random.randn()\n",
    "    b = np.random.randn()\n",
    "    print(\"{},{},{}\".format(w1,w2,b))\n",
    "    \n",
    "    iterations = 10000\n",
    "    learning_rate = 0.1\n",
    "    \n",
    "    costs = []\n",
    "    \n",
    "    for i in range(iterations):\n",
    "        \n",
    "        #get some random data point and feed into the network\n",
    "        ri = np.random.randint(len(data))\n",
    "        point = data[ri]\n",
    "        \n",
    "        z = w1 * point[0] + w2 * point[1] + b\n",
    "        pred = sigmoid(z)\n",
    "        target = point[2]\n",
    "        \n",
    "        #  cost squared function\n",
    "        cost = np.square(pred - target)\n",
    "        \n",
    "        # print the cost for every 100 iterations\n",
    "        if i % 100 == 0:\n",
    "            \n",
    "            c = 0\n",
    "            for j in range(len(data)):\n",
    "                p = data[j]\n",
    "                p_pred = sigmoid(w1* p[0]+ w2* p[1]+b)\n",
    "                c+= np.square(p_pred - p[2])\n",
    "                \n",
    "            costs.append(c)\n",
    "            \n",
    "        dcost_dpred = 2 * (pred - target)\n",
    "        dpred_dz = sigmoid_dash(z)\n",
    "        \n",
    "        dz_dw1 = point[0]\n",
    "        dz_dw2 = point[1]\n",
    "        dz_db = 1\n",
    "        \n",
    "        dcost_dz = dcost_dpred * dpred_dz\n",
    "        \n",
    "        dcost_dw1 = dcost_dz * dz_dw1\n",
    "        dcost_dw2 = dcost_dz * dz_dw2\n",
    "        dcost_db = dcost_dz * dz_db\n",
    "        #print(\"{},{},{}\".format(dcost_dw1,dcost_dw2,dcost_db))\n",
    "        \n",
    "        # updating the parameters to get the nearest expected values\n",
    "        w1 = w1 - learning_rate * dcost_dw1\n",
    "        w2 = w2 - learning_rate * dcost_dw2\n",
    "        b = b - learning_rate * dcost_db\n",
    "    \n",
    "        \n",
    "    return costs , w1,w2,b\n",
    "  "
   ]
  },
  {
   "cell_type": "code",
   "execution_count": 9,
   "metadata": {},
   "outputs": [
    {
     "name": "stdout",
     "output_type": "stream",
     "text": [
      "-1.330981178453732,1.1111329862365973,-0.4616816621998596\n",
      "2.5629162000917534,0.8964733350001921,-8.448631043249845\n"
     ]
    }
   ],
   "source": [
    "costs , w1 , w2 , b = train_data()\n",
    "print(\"{},{},{}\".format(w1,w2,b))"
   ]
  },
  {
   "cell_type": "code",
   "execution_count": 14,
   "metadata": {},
   "outputs": [
    {
     "data": {
      "text/plain": [
       "[3.1255012332286425,\n",
       " 2.628523532934974,\n",
       " 2.106296608866419,\n",
       " 1.5239132543831253,\n",
       " 1.2295710276569394,\n",
       " 1.1395851461846387,\n",
       " 1.0431533729665396,\n",
       " 0.9794391720402084,\n",
       " 0.9355268120406405,\n",
       " 0.9338614376591089,\n",
       " 1.0133928208582812,\n",
       " 0.8374046652823586,\n",
       " 0.83392557073738,\n",
       " 0.8201804138513762,\n",
       " 0.7867072892268868,\n",
       " 0.7880613336360504,\n",
       " 0.7760328456683911,\n",
       " 0.7436904012881248,\n",
       " 0.7602637094226284,\n",
       " 0.7120526589080838,\n",
       " 0.6996689170523872,\n",
       " 0.7042839619471057,\n",
       " 0.7965804263335238,\n",
       " 0.7187187565415152,\n",
       " 0.6725787682444394,\n",
       " 0.6624114090954707,\n",
       " 0.7032522314994242,\n",
       " 0.6745595493298179,\n",
       " 0.6557003521892559,\n",
       " 0.6589734180383203,\n",
       " 0.67334706320128,\n",
       " 0.6334609861378157,\n",
       " 0.6231009381995611,\n",
       " 0.7491752579429461,\n",
       " 0.6385754808270443,\n",
       " 0.6147479465378185,\n",
       " 0.6226651133893181,\n",
       " 0.6210376662671353,\n",
       " 0.5984959821781659,\n",
       " 0.5959546886676226,\n",
       " 0.6179275346955758,\n",
       " 0.6137120266063557,\n",
       " 0.5882445677971954,\n",
       " 0.6387302303665882,\n",
       " 0.5945457485921566,\n",
       " 0.617663015612325,\n",
       " 0.6339367170077067,\n",
       " 0.5884882881977358,\n",
       " 0.5945683632489245,\n",
       " 0.569603608868241,\n",
       " 0.5699577271462738,\n",
       " 0.5653007601255393,\n",
       " 0.6077313829851881,\n",
       " 0.6770701370787029,\n",
       " 0.5628285275251834,\n",
       " 0.5704376624556519,\n",
       " 0.6750553347124832,\n",
       " 0.5568908949694477,\n",
       " 0.6250004343844542,\n",
       " 0.6177405997245283,\n",
       " 0.5478597955941941,\n",
       " 0.5869672314361013,\n",
       " 0.6058917504944731,\n",
       " 0.6170178874658069,\n",
       " 0.5772748924955541,\n",
       " 0.545153241625823,\n",
       " 0.5389061280890608,\n",
       " 0.537152638438006,\n",
       " 0.5391326594968133,\n",
       " 0.6749978859496764,\n",
       " 0.5322459766229434,\n",
       " 0.5457027306477676,\n",
       " 0.6099801507790452,\n",
       " 0.5389886611536937,\n",
       " 0.5279910185656876,\n",
       " 0.5747137232256618,\n",
       " 0.5268195081754233,\n",
       " 0.5312907373632985,\n",
       " 0.6171426544757586,\n",
       " 0.5286089402573776,\n",
       " 0.6372878306834745,\n",
       " 0.5906349501554206,\n",
       " 0.522316352303695,\n",
       " 0.53151705458259,\n",
       " 0.585299634346506,\n",
       " 0.5869763719574426,\n",
       " 0.5199412215609235,\n",
       " 0.550508397159254,\n",
       " 0.5374498155970232,\n",
       " 0.575588894565531,\n",
       " 0.5601975742695787,\n",
       " 0.5789335015247744,\n",
       " 0.808641482804715,\n",
       " 0.5240812578729478,\n",
       " 0.5208085709276601,\n",
       " 0.5076736967025977,\n",
       " 0.5229166345595581,\n",
       " 0.5105904206459945,\n",
       " 0.5055562337306264,\n",
       " 0.5532517233536086]"
      ]
     },
     "execution_count": 14,
     "metadata": {},
     "output_type": "execute_result"
    }
   ],
   "source": [
    "costs"
   ]
  },
  {
   "cell_type": "code",
   "execution_count": 10,
   "metadata": {},
   "outputs": [
    {
     "data": {
      "text/plain": [
       "2.5629162000917534"
      ]
     },
     "execution_count": 10,
     "metadata": {},
     "output_type": "execute_result"
    }
   ],
   "source": [
    "w1"
   ]
  },
  {
   "cell_type": "code",
   "execution_count": 11,
   "metadata": {},
   "outputs": [
    {
     "data": {
      "text/plain": [
       "0.8964733350001921"
      ]
     },
     "execution_count": 11,
     "metadata": {},
     "output_type": "execute_result"
    }
   ],
   "source": [
    "w2"
   ]
  },
  {
   "cell_type": "code",
   "execution_count": 12,
   "metadata": {},
   "outputs": [
    {
     "data": {
      "text/plain": [
       "-8.448631043249845"
      ]
     },
     "execution_count": 12,
     "metadata": {},
     "output_type": "execute_result"
    }
   ],
   "source": [
    "b"
   ]
  },
  {
   "cell_type": "code",
   "execution_count": 13,
   "metadata": {},
   "outputs": [
    {
     "data": {
      "text/plain": [
       "[<matplotlib.lines.Line2D at 0x7f01a5a2ae48>]"
      ]
     },
     "execution_count": 13,
     "metadata": {},
     "output_type": "execute_result"
    },
    {
     "data": {
      "image/png": "[encoded data removed]",
      "text/plain": [
       "<Figure size 432x288 with 1 Axes>"
      ]
     },
     "metadata": {
      "needs_background": "light"
     },
     "output_type": "display_data"
    }
   ],
   "source": [
    "plt.plot(costs)"
   ]
  },
  {
   "cell_type": "code",
   "execution_count": 14,
   "metadata": {},
   "outputs": [
    {
     "name": "stdout",
     "output_type": "stream",
     "text": [
      "0.9816744808892174\n"
     ]
    }
   ],
   "source": [
    "# predicting the unknown flower\n",
    "z = w1 * unknownFlower[0] + w2 * unknownFlower[1] + b\n",
    "pred = sigmoid(z)\n",
    "print(pred)\n",
    "\n"
   ]
  },
  {
   "cell_type": "code",
   "execution_count": 15,
   "metadata": {},
   "outputs": [],
   "source": [
    "import os\n",
    "def predict(m1,m2):\n",
    "    z = w1 * m1 + w2 * m2 + b\n",
    "    pred = sigmoid(z)\n",
    "    if pred >.5:\n",
    "        os.system(\"say 'Its Red Flower'\")\n",
    "        print(\"Its Red Flower\")\n",
    "    else:\n",
    "        os.system(\"say 'Its Blue Flower'\")\n",
    "        print(\"Its Blue Flower\")\n",
    "    "
   ]
  },
  {
   "cell_type": "code",
   "execution_count": 16,
   "metadata": {},
   "outputs": [
    {
     "name": "stdout",
     "output_type": "stream",
     "text": [
      "Its Blue Flower\n"
     ]
    }
   ],
   "source": [
    "predict(2,1)"
   ]
  },
  {
   "cell_type": "code",
   "execution_count": 25,
   "metadata": {},
   "outputs": [],
   "source": [
    "# to plot the predictions with x and y as lengths and weights\n",
    "def plot_rand_predictions():\n",
    "    for X in np.linspace(0, 6, 50):\n",
    "        for Y in np.linspace(0, 3, 50):\n",
    "            pred = sigmoid(w1 * X + w2 * Y +b)\n",
    "            c = 'b'\n",
    "            if pred >.5:\n",
    "                c = 'r'\n",
    "            plt.scatter(X,Y,c=c,alpha=.5)\n",
    "            "
   ]
  },
  {
   "cell_type": "code",
   "execution_count": 26,
   "metadata": {},
   "outputs": [
    {
     "data": {
      "image/png": "[encoded data removed]",
      "text/plain": [
       "<Figure size 432x288 with 1 Axes>"
      ]
     },
     "metadata": {
      "needs_background": "light"
     },
     "output_type": "display_data"
    }
   ],
   "source": [
    "plot_rand_predictions()"
   ]
  },
  {
   "cell_type": "code",
   "execution_count": null,
   "metadata": {},
   "outputs": [],
   "source": []
  },
  {
   "cell_type": "code",
   "execution_count": null,
   "metadata": {},
   "outputs": [],
   "source": []
  }
 ],
 "metadata": {
  "kernelspec": {
   "display_name": "Python 3",
   "language": "python",
   "name": "python3"
  },
  "language_info": {
   "codemirror_mode": {
    "name": "ipython",
    "version": 3
   },
   "file_extension": ".py",
   "mimetype": "text/x-python",
   "name": "python",
   "nbconvert_exporter": "python",
   "pygments_lexer": "ipython3",
   "version": "3.7.0"
  }
 },
 "nbformat": 4,
 "nbformat_minor": 2
}
