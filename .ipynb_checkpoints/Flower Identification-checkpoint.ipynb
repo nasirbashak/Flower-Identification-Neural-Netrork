{
 "cells": [
  {
   "cell_type": "code",
   "execution_count": 2,
   "metadata": {},
   "outputs": [],
   "source": [
    "from matplotlib import pyplot as plt"
   ]
  },
  {
   "cell_type": "code",
   "execution_count": 3,
   "metadata": {},
   "outputs": [],
   "source": [
    "import numpy as np"
   ]
  },
  {
   "cell_type": "code",
   "execution_count": 5,
   "metadata": {},
   "outputs": [],
   "source": [
    "# flower dimentions length , width , type (0,1)\n",
    "\n",
    "data = [[3,    1.5, 1],\n",
    "        [2,    1,   0],\n",
    "        [4,    1.5, 1],\n",
    "        [3,    1,   0],\n",
    "        [3.5, .5,   1],\n",
    "        [2,   .5,   0],\n",
    "        [5.5,  1,   1],\n",
    "        [1,    1,   0]]\n",
    "unknownFlower = [4.5, 1]"
   ]
  },
  {
   "cell_type": "code",
   "execution_count": 45,
   "metadata": {},
   "outputs": [
    {
     "data": {
      "image/png": "[encoded data removed]",
      "text/plain": [
       "<Figure size 432x288 with 1 Axes>"
      ]
     },
     "metadata": {
      "needs_background": "light"
     },
     "output_type": "display_data"
    }
   ],
   "source": [
    "# plotting the flowers using scatter plotting\n",
    "def vis_data():\n",
    "    \n",
    "    plt.grid()\n",
    "    \n",
    "    for i in range(len(data)):\n",
    "        c = 'r'\n",
    "        if data[i][2] == 0:\n",
    "            c = 'b'\n",
    "        plt.scatter(data[i][0],data[i][1],c=c)\n",
    "    plt.scatter(unknownFlower[0],unknownFlower[1],c ='0')\n",
    "vis_data()"
   ]
  },
  {
   "cell_type": "code",
   "execution_count": 24,
   "metadata": {},
   "outputs": [],
   "source": [
    "# activation function \n",
    "def sigmoid(x):\n",
    "    return (1/(1+np.exp(-x)))\n",
    "\n",
    "def sigmoid_dash(x):\n",
    "    return sigmoid(x)*(1 - sigmoid(x))\n"
   ]
  },
  {
   "cell_type": "code",
   "execution_count": 29,
   "metadata": {},
   "outputs": [
    {
     "data": {
      "text/plain": [
       "[<matplotlib.lines.Line2D at 0x7f55091decf8>]"
      ]
     },
     "execution_count": 29,
     "metadata": {},
     "output_type": "execute_result"
    },
    {
     "data": {
      "image/png": "[encoded data removed]",
      "text/plain": [
       "<Figure size 432x288 with 1 Axes>"
      ]
     },
     "metadata": {
      "needs_background": "light"
     },
     "output_type": "display_data"
    }
   ],
   "source": [
    "X = np.linspace(-10,10,100)\n",
    "plt.plot(X,sigmoid(X),c = 'b')\n",
    "plt.plot(X,sigmoid_dash(X),c = 'r')"
   ]
  },
  {
   "cell_type": "code",
   "execution_count": 37,
   "metadata": {},
   "outputs": [],
   "source": [
    "#training dataset to nn\n",
    "def train_data():\n",
    "    #random weight in the begining and bringing them to get minimum cost\n",
    "    w1 = np.random.randn()\n",
    "    w2 = np.random.randn()\n",
    "    b = np.random.randn()\n",
    "    \n",
    "    iterations = 10000\n",
    "    learning_rate = 0.1\n",
    "    \n",
    "    costs = []\n",
    "    \n",
    "    for i in range(iterations):\n",
    "        \n",
    "        #get some random data point and feed into the network\n",
    "        ri = np.random.randint(len(data))\n",
    "        point = data[ri]\n",
    "        \n",
    "        z = w1 * point[0] + w2 * point[1] + b\n",
    "        pred = sigmoid(z)\n",
    "        target = point[2]\n",
    "        \n",
    "        #  cost squared function\n",
    "        cost = np.square(pred - target)\n",
    "        \n",
    "        # print the cost for every 100 iterations\n",
    "        if i % 100 == 0:\n",
    "            \n",
    "            c = 0\n",
    "            for j in range(len(data)):\n",
    "                p = data[j]\n",
    "                p_pred = sigmoid(w1* p[0]+ w2* p[1]+b)\n",
    "                c+= np.square(p_pred - p[2])\n",
    "                \n",
    "            costs.append(c)\n",
    "            \n",
    "        dcost_dpred = 2 * (pred - target)\n",
    "        dpred_dz = sigmoid_dash(z)\n",
    "        \n",
    "        dz_dw1 = point[0]\n",
    "        dz_dw2 = point[1]\n",
    "        dz_db = 1\n",
    "        \n",
    "        dcost_dz = dcost_dpred * dpred_dz\n",
    "        \n",
    "        dcost_dw1 = dcost_dz * dz_dw1\n",
    "        dcost_dw2 = dcost_dz * dz_dw2\n",
    "        dcost_db = dcost_dz * dz_db\n",
    "        \n",
    "        # updating the parameters to get the nearest expected values\n",
    "        w1 = w1 - learning_rate * dcost_dw1\n",
    "        w2 = w2 - learning_rate * dcost_dw2\n",
    "        b = b - learning_rate * dcost_db\n",
    "    \n",
    "        \n",
    "    return costs , w1,w2,b\n",
    "  "
   ]
  },
  {
   "cell_type": "code",
   "execution_count": 38,
   "metadata": {},
   "outputs": [],
   "source": [
    "costs , w1 , w2 , b = train_data()"
   ]
  },
  {
   "cell_type": "code",
   "execution_count": 39,
   "metadata": {},
   "outputs": [
    {
     "data": {
      "text/plain": [
       "[3.1987820449753253,\n",
       " 1.404286615929794,\n",
       " 1.2017531461045112,\n",
       " 1.0694244079876407,\n",
       " 0.9986619651257068,\n",
       " 0.9495013026848937,\n",
       " 1.0340559218149283,\n",
       " 1.1074025507690208,\n",
       " 0.9206842104427033,\n",
       " 1.1523986006207956,\n",
       " 0.8561096744093223,\n",
       " 0.789233652254391,\n",
       " 0.8538074019536139,\n",
       " 0.758873162129966,\n",
       " 0.7741338812945298,\n",
       " 0.734964410307996,\n",
       " 0.7110961939627464,\n",
       " 0.7226062921610805,\n",
       " 0.7523348152547058,\n",
       " 0.6974642483315693,\n",
       " 0.7081492532524695,\n",
       " 0.713643289968052,\n",
       " 0.8959082847007801,\n",
       " 0.7716181340710949,\n",
       " 0.723336304361111,\n",
       " 0.6626943911113325,\n",
       " 0.6346748426896981,\n",
       " 0.6384324582827309,\n",
       " 0.6419326712516479,\n",
       " 0.644613399705367,\n",
       " 0.6168016232816235,\n",
       " 0.6228241016069489,\n",
       " 0.6285208328116421,\n",
       " 0.6148216510420326,\n",
       " 0.6943291634008159,\n",
       " 0.6204550771042184,\n",
       " 0.6067264600120962,\n",
       " 0.6606476089452294,\n",
       " 0.6417570497670325,\n",
       " 0.5873561923776829,\n",
       " 0.5972498488720552,\n",
       " 0.5812876937056446,\n",
       " 0.5784760332130278,\n",
       " 0.5946917258504479,\n",
       " 0.5832547594626774,\n",
       " 0.576991150976556,\n",
       " 0.573160088865594,\n",
       " 0.59788967496793,\n",
       " 0.5846509569153701,\n",
       " 0.5799115489158557,\n",
       " 0.5649348843429693,\n",
       " 0.5593582345469617,\n",
       " 0.6991627049249562,\n",
       " 0.5616737952474562,\n",
       " 0.5914958814410107,\n",
       " 0.5542624419713272,\n",
       " 0.5787777084215588,\n",
       " 0.6107894152258757,\n",
       " 0.6402794935857655,\n",
       " 0.5599442481935264,\n",
       " 0.6447935532401909,\n",
       " 0.5501419832707767,\n",
       " 0.5693196461939781,\n",
       " 0.5489072471856443,\n",
       " 0.5602605410753314,\n",
       " 0.5593714964406992,\n",
       " 0.6013898090556925,\n",
       " 0.5327248465373913,\n",
       " 0.5338338291718779,\n",
       " 0.5306327314648666,\n",
       " 0.5589602526484746,\n",
       " 0.5524062699964303,\n",
       " 0.5472732749226412,\n",
       " 0.557918527249286,\n",
       " 0.5237288484084606,\n",
       " 0.5326162622111992,\n",
       " 0.5432823091699441,\n",
       " 0.520631442032874,\n",
       " 0.5266431187463863,\n",
       " 0.5364088590864452,\n",
       " 0.5587959233693488,\n",
       " 0.5183170500975991,\n",
       " 0.550302246101873,\n",
       " 0.6799806430320914,\n",
       " 0.521642148249169,\n",
       " 0.6686584886701927,\n",
       " 0.5304182427838713,\n",
       " 0.5283219186473621,\n",
       " 0.5159759979523001,\n",
       " 0.5284384917027817,\n",
       " 0.5592621361890869,\n",
       " 0.5114975577376628,\n",
       " 0.5287723866489351,\n",
       " 0.5602205724894586,\n",
       " 0.5044249759948718,\n",
       " 0.5419530761011313,\n",
       " 0.5126279212279344,\n",
       " 0.6034946692963746,\n",
       " 0.5565592270622024,\n",
       " 0.49985219820273186]"
      ]
     },
     "execution_count": 39,
     "metadata": {},
     "output_type": "execute_result"
    }
   ],
   "source": [
    "costs"
   ]
  },
  {
   "cell_type": "code",
   "execution_count": 40,
   "metadata": {},
   "outputs": [
    {
     "data": {
      "text/plain": [
       "2.6008494905089803"
      ]
     },
     "execution_count": 40,
     "metadata": {},
     "output_type": "execute_result"
    }
   ],
   "source": [
    "w1"
   ]
  },
  {
   "cell_type": "code",
   "execution_count": 41,
   "metadata": {},
   "outputs": [
    {
     "data": {
      "text/plain": [
       "0.8817345999801361"
      ]
     },
     "execution_count": 41,
     "metadata": {},
     "output_type": "execute_result"
    }
   ],
   "source": [
    "w2"
   ]
  },
  {
   "cell_type": "code",
   "execution_count": 42,
   "metadata": {},
   "outputs": [
    {
     "data": {
      "text/plain": [
       "-8.47736512168628"
      ]
     },
     "execution_count": 42,
     "metadata": {},
     "output_type": "execute_result"
    }
   ],
   "source": [
    "b"
   ]
  },
  {
   "cell_type": "code",
   "execution_count": 43,
   "metadata": {},
   "outputs": [
    {
     "data": {
      "text/plain": [
       "[<matplotlib.lines.Line2D at 0x7f55089b97f0>]"
      ]
     },
     "execution_count": 43,
     "metadata": {},
     "output_type": "execute_result"
    },
    {
     "data": {
      "image/png": "[encoded data removed]",
      "text/plain": [
       "<Figure size 432x288 with 1 Axes>"
      ]
     },
     "metadata": {
      "needs_background": "light"
     },
     "output_type": "display_data"
    }
   ],
   "source": [
    "plt.plot(costs)"
   ]
  },
  {
   "cell_type": "code",
   "execution_count": 48,
   "metadata": {},
   "outputs": [
    {
     "name": "stdout",
     "output_type": "stream",
     "text": [
      "0.983828357223277\n"
     ]
    }
   ],
   "source": [
    "# predicting the unknown flower\n",
    "z = w1 * unknownFlower[0] + w2 * unknownFlower[1] + b\n",
    "pred = sigmoid(z)\n",
    "print(pred)\n",
    "\n"
   ]
  },
  {
   "cell_type": "code",
   "execution_count": 94,
   "metadata": {},
   "outputs": [],
   "source": [
    "import os\n",
    "def predict(m1,m2):\n",
    "    z = w1 * m1 + w2 * m2 + b\n",
    "    pred = sigmoid(z)\n",
    "    if pred >.5:\n",
    "        os.system(\"say 'Its Red Flower'\")\n",
    "        print(\"Its Red Flower\")\n",
    "    else:\n",
    "        os.system(\"say 'Its Blue Flower'\")\n",
    "        print(\"Its Blue Flower\")\n",
    "    "
   ]
  },
  {
   "cell_type": "code",
   "execution_count": 95,
   "metadata": {},
   "outputs": [
    {
     "name": "stdout",
     "output_type": "stream",
     "text": [
      "Its Red Flower\n"
     ]
    }
   ],
   "source": [
    "predict(np.e,np.e)"
   ]
  },
  {
   "cell_type": "code",
   "execution_count": 90,
   "metadata": {},
   "outputs": [],
   "source": [
    "# to plot the predictions with x and y as lengths and weights\n",
    "def plot_rand_predictions():\n",
    "    for X in np.linspace(0, 6, 50):\n",
    "        for Y in np.linspace(0, 3, 50):\n",
    "            pred = sigmoid(w1 * X + w2 * Y +b)\n",
    "            c = 'b'\n",
    "            if pred >.5:\n",
    "                c = 'r'\n",
    "            plt.scatter(X,Y,c=c,alpha=.5)\n",
    "            "
   ]
  },
  {
   "cell_type": "code",
   "execution_count": 85,
   "metadata": {},
   "outputs": [
    {
     "data": {
      "image/png": "[encoded data removed]",
      "text/plain": [
       "<Figure size 432x288 with 1 Axes>"
      ]
     },
     "metadata": {
      "needs_background": "light"
     },
     "output_type": "display_data"
    }
   ],
   "source": [
    "plot_rand_predictions()"
   ]
  },
  {
   "cell_type": "code",
   "execution_count": null,
   "metadata": {},
   "outputs": [],
   "source": []
  }
 ],
 "metadata": {
  "kernelspec": {
   "display_name": "Python 3",
   "language": "python",
   "name": "python3"
  },
  "language_info": {
   "codemirror_mode": {
    "name": "ipython",
    "version": 3
   },
   "file_extension": ".py",
   "mimetype": "text/x-python",
   "name": "python",
   "nbconvert_exporter": "python",
   "pygments_lexer": "ipython3",
   "version": "3.7.0"
  }
 },
 "nbformat": 4,
 "nbformat_minor": 2
}
